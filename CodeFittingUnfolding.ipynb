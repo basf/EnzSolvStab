{
 "cells": [
  {
   "cell_type": "code",
   "execution_count": 1,
   "id": "f437ddae",
   "metadata": {},
   "outputs": [
    {
     "name": "stdout",
     "output_type": "stream",
     "text": [
      "numpy 1.20.3\n",
      "pandas 1.2.4\n",
      "scipy 1.5.3\n",
      "tqdm 4.61.0\n"
     ]
    }
   ],
   "source": [
    "import numpy as np\n",
    "import pandas as pd\n",
    "\n",
    "import math\n",
    "import scipy\n",
    "from scipy.optimize import minimize\n",
    "\n",
    "import tqdm as tq\n",
    "from tqdm.notebook import tqdm\n",
    "\n",
    "for pkg in [np, pd, scipy, tq]:\n",
    "    print(pkg.__name__, pkg.__version__)"
   ]
  },
  {
   "cell_type": "code",
   "execution_count": 2,
   "id": "5cb5de6b",
   "metadata": {},
   "outputs": [],
   "source": [
    "# Where to save\n",
    "curpathout = '.'\n",
    "# Where to get input data\n",
    "df = pd.read_csv('{}/Unfolding.csv'.format(curpathout))\n",
    "df['Temperature'] = df['Temperature'].astype(int).astype('category')"
   ]
  },
  {
   "cell_type": "code",
   "execution_count": null,
   "id": "d8c0e60a",
   "metadata": {},
   "outputs": [
    {
     "data": {
      "application/vnd.jupyter.widget-view+json": {
       "model_id": "d21225b0416d4a9c9d209ea1515f1d67",
       "version_major": 2,
       "version_minor": 0
      },
      "text/plain": [
       "  0%|          | 0/234 [00:00<?, ?it/s]"
      ]
     },
     "metadata": {},
     "output_type": "display_data"
    }
   ],
   "source": [
    "PARAMETERS = [\n",
    "    # name, λ, starting, bounds, scaling\n",
    "    ('aN',   0,      7,       (0, None),      1/10),\n",
    "    ('bN',   0,      1,       (0.0, None),  1/1000),\n",
    "    ('aD',   0,      2,       (0, None),      1/10),\n",
    "    ('bD',   0,      1,       (0.0, None),  1/1000),\n",
    "    ('m',    0,      15,      (0, None),       100),\n",
    "    ('D50',  0,      19,      (0, 100),          1),\n",
    "]\n",
    "\n",
    "# parameter_names\n",
    "parameter_names = [n for n, _, _, _, _ in PARAMETERS]\n",
    "\n",
    "# regularization coefficients\n",
    "λ = np.array([l for _, l, _, _, _ in PARAMETERS])\n",
    "\n",
    "# starting parameters\n",
    "θ0 = [v for _, _, v, _, _ in PARAMETERS]\n",
    "\n",
    "# parameter boundaries\n",
    "bounds = [b for _, _, _, b, _ in PARAMETERS]\n",
    "\n",
    "# parameter boundaries\n",
    "scaling = [s for _, _, _, _, s in PARAMETERS]\n",
    "\n",
    "\n",
    "def model(x, temp, params):\n",
    "    aN, bN, aD, bD, m, D50 = params\n",
    "    \n",
    "    k = m * scaling[4] / (8.314 * temp)\n",
    "    \n",
    "    return (\n",
    "        (aN * scaling[0] + bN * scaling[1] * x) + \n",
    "        (aD * scaling[2] + bD * scaling[3] * x) * \n",
    "        np.exp(k * (x-D50 * scaling[5])) /\n",
    "        (1 + np.exp(k * (x-D50 * scaling[5])))\n",
    "    )\n",
    "\n",
    "def cost_function(params, x, y, temp):\n",
    "    least_squares_cost = np.sum( (y - model(x, temp, params)) ** 2)\n",
    "    regularization_cost = np.sum( (λ * params) ** 2)\n",
    "    \n",
    "    return least_squares_cost + regularization_cost\n",
    "\n",
    "\n",
    "fit_parameters = []\n",
    "for (solvent, enzyme, temperature), dfg in tqdm(df.groupby(['Solvent', 'Enzyme', 'Temperature'])):\n",
    "    x = dfg['Concentration']\n",
    "    y = dfg['FU']\n",
    "    temp = temperature + 273\n",
    "    \n",
    "    θ = minimize(\n",
    "        cost_function,\n",
    "        θ0,                # starting values\n",
    "        args=(x, y, temp), # data points\n",
    "        bounds=bounds,     # boundaries for values\n",
    "    )\n",
    "    \n",
    "    fit_parameters.append((solvent, enzyme, temperature, *θ.x))\n",
    "    \n",
    "df_fits = pd.DataFrame.from_records(fit_parameters, columns=('Solvent', 'Enzyme', 'Temperature', *parameter_names))\n",
    "df_fits.set_index(['Solvent', 'Enzyme', 'Temperature'], inplace=True)\n",
    "\n",
    "# Convert scaled values back to actual values and modify scaling variable accordingly\n",
    "for s, column in zip(scaling, df_fits.columns):\n",
    "    df_fits[column] = df_fits[column]*s\n",
    "\n",
    "# Save out fitted variables\n",
    "df_fits.to_csv(f'{curpathout}/Unfolding_params.csv', index=True)"
   ]
  },
  {
   "cell_type": "code",
   "execution_count": null,
   "id": "7b251485",
   "metadata": {},
   "outputs": [],
   "source": []
  }
 ],
 "metadata": {
  "kernelspec": {
   "display_name": "Python 3",
   "language": "python",
   "name": "python3"
  },
  "language_info": {
   "codemirror_mode": {
    "name": "ipython",
    "version": 3
   },
   "file_extension": ".py",
   "mimetype": "text/x-python",
   "name": "python",
   "nbconvert_exporter": "python",
   "pygments_lexer": "ipython3",
   "version": "3.7.10"
  }
 },
 "nbformat": 4,
 "nbformat_minor": 5
}
