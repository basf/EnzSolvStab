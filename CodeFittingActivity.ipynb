{
 "cells": [
  {
   "cell_type": "code",
   "execution_count": 1,
   "id": "c433a52c-98ea-48c9-aacd-4c4f86d718cb",
   "metadata": {},
   "outputs": [
    {
     "name": "stdout",
     "output_type": "stream",
     "text": [
      "numpy 1.20.3\n",
      "pandas 1.2.4\n",
      "scipy 1.5.3\n",
      "tqdm 4.61.0\n"
     ]
    }
   ],
   "source": [
    "import numpy as np\n",
    "import pandas as pd\n",
    "\n",
    "import math\n",
    "import scipy\n",
    "from scipy.optimize import minimize\n",
    "\n",
    "import tqdm as tq\n",
    "from tqdm.notebook import tqdm\n",
    "\n",
    "for pkg in [np, pd, scipy, tq]:\n",
    "    print(pkg.__name__, pkg.__version__)"
   ]
  },
  {
   "cell_type": "code",
   "execution_count": 2,
   "id": "576ee346-3f83-491d-ba1c-6cc559435767",
   "metadata": {},
   "outputs": [],
   "source": [
    "# Where to find/save\n",
    "path_in = '.'\n",
    "curpathout = '.'\n",
    "\n",
    "# Where to get input data\n",
    "df = pd.read_csv('{}/Activity.csv'.format(path_in))\n",
    "df['Temperature'] = df['Temperature'].astype(int).astype('category')\n",
    "\n",
    "# Filter out controls 0.1 (no enzyme) and 0.2 (no solvent)\n",
    "df = df.query('Concentration != 0.1 and Concentration != 0.2')"
   ]
  },
  {
   "cell_type": "code",
   "execution_count": null,
   "id": "7defc84e-dcd9-47c5-b75a-efd13c1cb822",
   "metadata": {},
   "outputs": [
    {
     "data": {
      "application/vnd.jupyter.widget-view+json": {
       "model_id": "11d9313b8faa4a2a9f8d81459c20c518",
       "version_major": 2,
       "version_minor": 0
      },
      "text/plain": [
       "  0%|          | 0/72 [00:00<?, ?it/s]"
      ]
     },
     "metadata": {},
     "output_type": "display_data"
    },
    {
     "name": "stderr",
     "output_type": "stream",
     "text": [
      "/home/frieda/anaconda3/lib/python3.7/site-packages/pandas/core/arraylike.py:358: RuntimeWarning: overflow encountered in exp\n",
      "  result = getattr(ufunc, method)(*inputs, **kwargs)\n"
     ]
    }
   ],
   "source": [
    "PARAMETERS = [\n",
    "    # name, λ, starting, bounds\n",
    "    ('x50', 0,      20,       (0, 100)),\n",
    "    ('μ',   0.01,   10,       (0, 100)),\n",
    "    ('σ',   0,      10,       (10, None)),\n",
    "    ('A',   0.001,  1,        (0, None)),\n",
    "    ('B',   0,      1,        (0, None)),\n",
    "    ('m',   0,      15.00,    (None, None)),\n",
    "]\n",
    "\n",
    "# parameter_names\n",
    "parameter_names = [n for n, _, _, _ in PARAMETERS]\n",
    "\n",
    "# regularization coefficients\n",
    "λ = np.array([l for _, l, _, _ in PARAMETERS])\n",
    "\n",
    "# starting parameters\n",
    "θ0 = [v for _, _, v, _ in PARAMETERS]\n",
    "\n",
    "# parameter boundaries\n",
    "bounds = [b for _, _, _, b in PARAMETERS]\n",
    "\n",
    "def model(x, temp, params):\n",
    "    x50, μ, σ, A, B, m = params\n",
    "    \n",
    "    k = m*100 / (8.314 * temp)\n",
    "    \n",
    "    return (\n",
    "        A * np.exp(-0.5 * ((x - μ) / σ) ** 2) / (σ * np.sqrt(2 * np.pi)) +\n",
    "        B * (np.exp(-k * (x - x50))) / (1 + np.exp(-k * (x - x50)))    \n",
    "    )\n",
    "\n",
    "def cost_function(params, x, y, temp):\n",
    "    least_squares_cost = np.sum( (y - model(x, temp, params)) ** 2)\n",
    "    regularization_cost = np.sum( (λ * params) ** 2)\n",
    "    \n",
    "    return least_squares_cost + regularization_cost\n",
    "\n",
    "\n",
    "fit_parameters = []\n",
    "for (solvent, enzyme, temperature), dfg in tqdm(df.groupby(['Solvent', 'Enzyme', 'Temperature'])):\n",
    "    x = dfg['Concentration']\n",
    "    y = dfg['Activity_mean']\n",
    "    temp = temperature + 273\n",
    "    \n",
    "    θ = minimize(\n",
    "        cost_function,\n",
    "        θ0,                # starting values\n",
    "        args=(x, y, temp), # data points\n",
    "        bounds=bounds,     # boundaries for values\n",
    "    )\n",
    "    \n",
    "    fit_parameters.append((solvent, enzyme, temperature, *θ.x))\n",
    "    \n",
    "df_fits = pd.DataFrame.from_records(fit_parameters, columns=('Solvent', 'Enzyme', 'Temperature', *parameter_names))\n",
    "df_fits.set_index(['Solvent', 'Enzyme', 'Temperature'], inplace=True)\n",
    "\n",
    "# Convert scaled values to back to actual values and modify scaling variable accordingly\n",
    "df_fits['m'] = df_fits['m']*100\n",
    "\n",
    "df_fits.to_csv(f'{curpathout}/Act_params.csv', index=True)"
   ]
  },
  {
   "cell_type": "code",
   "execution_count": null,
   "id": "6ef10ddd",
   "metadata": {},
   "outputs": [],
   "source": []
  }
 ],
 "metadata": {
  "kernelspec": {
   "display_name": "Python 3",
   "language": "python",
   "name": "python3"
  },
  "language_info": {
   "codemirror_mode": {
    "name": "ipython",
    "version": 3
   },
   "file_extension": ".py",
   "mimetype": "text/x-python",
   "name": "python",
   "nbconvert_exporter": "python",
   "pygments_lexer": "ipython3",
   "version": "3.7.10"
  }
 },
 "nbformat": 4,
 "nbformat_minor": 5
}
